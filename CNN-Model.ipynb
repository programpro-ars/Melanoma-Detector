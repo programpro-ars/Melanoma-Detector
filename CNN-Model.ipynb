{
 "cells": [
  {
   "cell_type": "markdown",
   "source": [],
   "metadata": {
    "collapsed": false
   }
  },
  {
   "cell_type": "markdown",
   "source": [
    "# Melanoma Classification CNN Model\n",
    "\n",
    "#### by Arseniy Arsentyev (programpro.ars@gmail.com)"
   ],
   "metadata": {
    "collapsed": false
   }
  },
  {
   "cell_type": "code",
   "execution_count": 23,
   "metadata": {
    "collapsed": true
   },
   "outputs": [],
   "source": [
    "import numpy as np\n",
    "from keras.models import Sequential\n",
    "from keras.layers import Dense, Flatten, Normalization, Dropout\n",
    "from keras.applications.vgg19 import VGG19\n",
    "from keras.callbacks import ModelCheckpoint\n",
    "import matplotlib.pyplot as plt"
   ]
  },
  {
   "cell_type": "code",
   "execution_count": 24,
   "outputs": [],
   "source": [
    "#path_to_labels = 'path to the training labels stored in .npy file'\n",
    "#path_to_data = 'path to the training data stored in .npy file'\n",
    "\n",
    "path_to_labels = '/Users/b_arsick/Desktop/melanoma/support-files/labels.npy'\n",
    "path_to_data = '/Users/b_arsick/Desktop/melanoma/support-files/data.npy'"
   ],
   "metadata": {
    "collapsed": false
   }
  },
  {
   "cell_type": "code",
   "execution_count": 25,
   "outputs": [
    {
     "name": "stdout",
     "output_type": "stream",
     "text": [
      "(1000, 512, 512, 3)\n",
      "(1000,)\n"
     ]
    }
   ],
   "source": [
    "training_data = np.load(path_to_data)\n",
    "training_data = np.reshape(training_data, (1000, 512, 512, -1))\n",
    "training_labels = np.load(path_to_labels)[:, 1].flatten()\n",
    "print(training_data.shape)\n",
    "print(training_labels.shape)"
   ],
   "metadata": {
    "collapsed": false
   }
  },
  {
   "cell_type": "code",
   "execution_count": 26,
   "outputs": [],
   "source": [
    "vgg19 = VGG19(include_top=False, classes=2, input_shape=(512, 512, 3))\n",
    "vgg19.trainable = False"
   ],
   "metadata": {
    "collapsed": false
   }
  },
  {
   "cell_type": "code",
   "execution_count": 27,
   "outputs": [],
   "source": [
    "model = Sequential()\n",
    "model.add(Normalization())\n",
    "model.add(vgg19)\n",
    "model.add(Flatten())\n",
    "model.add(Dense(4096, activation='relu'))\n",
    "model.add(Dropout(0.5))\n",
    "model.add(Dense(4096, activation='relu'))\n",
    "model.add(Dropout(0.3))\n",
    "model.add(Dense(1, activation='sigmoid'))"
   ],
   "metadata": {
    "collapsed": false
   }
  },
  {
   "cell_type": "code",
   "execution_count": 28,
   "outputs": [],
   "source": [
    "model.compile(optimizer='adam', loss='binary_crossentropy', metrics=['accuracy'])"
   ],
   "metadata": {
    "collapsed": false
   }
  },
  {
   "cell_type": "code",
   "execution_count": 29,
   "outputs": [
    {
     "name": "stdout",
     "output_type": "stream",
     "text": [
      "Epoch 1/7\n",
      "29/29 [==============================] - ETA: 0s - loss: 93.3615 - accuracy: 0.5689 \n",
      "Epoch 1: val_loss improved from inf to 0.65957, saving model to cnn-model.h5\n",
      "29/29 [==============================] - 412s 14s/step - loss: 93.3615 - accuracy: 0.5689 - val_loss: 0.6596 - val_accuracy: 0.7200\n",
      "Epoch 2/7\n",
      "29/29 [==============================] - ETA: 0s - loss: 1.6171 - accuracy: 0.7433 \n",
      "Epoch 2: val_loss improved from 0.65957 to 0.57477, saving model to cnn-model.h5\n",
      "29/29 [==============================] - 371s 13s/step - loss: 1.6171 - accuracy: 0.7433 - val_loss: 0.5748 - val_accuracy: 0.7600\n",
      "Epoch 3/7\n",
      "29/29 [==============================] - ETA: 0s - loss: 0.7958 - accuracy: 0.8222 \n",
      "Epoch 3: val_loss improved from 0.57477 to 0.48419, saving model to cnn-model.h5\n",
      "29/29 [==============================] - 370s 13s/step - loss: 0.7958 - accuracy: 0.8222 - val_loss: 0.4842 - val_accuracy: 0.8200\n",
      "Epoch 4/7\n",
      "29/29 [==============================] - ETA: 0s - loss: 0.4481 - accuracy: 0.8778 \n",
      "Epoch 4: val_loss did not improve from 0.48419\n",
      "29/29 [==============================] - 388s 13s/step - loss: 0.4481 - accuracy: 0.8778 - val_loss: 0.4917 - val_accuracy: 0.8000\n",
      "Epoch 5/7\n",
      "29/29 [==============================] - ETA: 0s - loss: 0.2838 - accuracy: 0.9244 \n",
      "Epoch 5: val_loss did not improve from 0.48419\n",
      "29/29 [==============================] - 392s 14s/step - loss: 0.2838 - accuracy: 0.9244 - val_loss: 0.7393 - val_accuracy: 0.8100\n",
      "Epoch 6/7\n",
      "29/29 [==============================] - ETA: 0s - loss: 0.2865 - accuracy: 0.9411 \n",
      "Epoch 6: val_loss did not improve from 0.48419\n",
      "29/29 [==============================] - 388s 13s/step - loss: 0.2865 - accuracy: 0.9411 - val_loss: 1.1753 - val_accuracy: 0.7600\n",
      "Epoch 7/7\n",
      "29/29 [==============================] - ETA: 0s - loss: 0.2766 - accuracy: 0.9533 \n",
      "Epoch 7: val_loss did not improve from 0.48419\n",
      "29/29 [==============================] - 377s 13s/step - loss: 0.2766 - accuracy: 0.9533 - val_loss: 0.9753 - val_accuracy: 0.7700\n"
     ]
    }
   ],
   "source": [
    "checkpoint = ModelCheckpoint('cnn-model.h5', monitor='val_loss', save_best_only=True, verbose=1)\n",
    "callbacks_list = [checkpoint]\n",
    "\n",
    "training_history = model.fit(training_data, training_labels, validation_split=0.1, epochs=7, callbacks=callbacks_list)"
   ],
   "metadata": {
    "collapsed": false
   }
  },
  {
   "cell_type": "code",
   "execution_count": null,
   "outputs": [
    {
     "name": "stdout",
     "output_type": "stream",
     "text": [
      "29/29 [==============================] - ETA: 0s - loss: 0.1792 - accuracy: 0.9744 \n",
      "Epoch 2: val_loss improved from 0.89102 to 0.86745, saving model to cnn-model.h5\n",
      "29/29 [==============================] - 460s 16s/step - loss: 0.1792 - accuracy: 0.9744 - val_loss: 0.8675 - val_accuracy: 0.8200\n",
      "Epoch 3/7\n",
      "29/29 [==============================] - ETA: 0s - loss: 0.0782 - accuracy: 0.9856 \n",
      "Epoch 3: val_loss improved from 0.86745 to 0.85939, saving model to cnn-model.h5\n",
      "29/29 [==============================] - 492s 17s/step - loss: 0.0782 - accuracy: 0.9856 - val_loss: 0.8594 - val_accuracy: 0.8300\n",
      "Epoch 4/7\n",
      "29/29 [==============================] - ETA: 0s - loss: 0.0605 - accuracy: 0.9822 \n",
      "Epoch 4: val_loss improved from 0.85939 to 0.85217, saving model to cnn-model.h5\n",
      "29/29 [==============================] - 444s 15s/step - loss: 0.0605 - accuracy: 0.9822 - val_loss: 0.8522 - val_accuracy: 0.8300\n",
      "Epoch 5/7\n",
      " 4/29 [===>..........................] - ETA: 5:50 - loss: 0.0379 - accuracy: 0.9844"
     ]
    }
   ],
   "source": [
    "from keras.models import  load_model\n",
    "model = load_model('cnn-model.h5')\n",
    "model.trainable = True\n",
    "trainable = False\n",
    "for layer in model.layers:\n",
    "    if layer.name == 'block5_conv1':\n",
    "        trainable = True\n",
    "    layer.trainable = trainable\n",
    "\n",
    "from keras.optimizers import Adam\n",
    "model.compile(optimizer=Adam(learning_rate=1e-6), loss='binary_crossentropy', metrics=['accuracy'])\n",
    "checkpoint = ModelCheckpoint('cnn-model.h5', monitor='val_loss', save_best_only=True, verbose=1)\n",
    "callbacks_list = [checkpoint]\n",
    "\n",
    "training_history = model.fit(training_data, training_labels, validation_split=0.25, epochs=7, callbacks=callbacks_list)\n",
    "\n",
    "\n",
    "plt.plot(training_history.history['loss'][1:])\n",
    "plt.plot(training_history.history['val_loss'][1:])\n",
    "plt.show()"
   ],
   "metadata": {
    "collapsed": false,
    "pycharm": {
     "is_executing": true
    }
   }
  }
 ],
 "metadata": {
  "kernelspec": {
   "display_name": "Python 3",
   "language": "python",
   "name": "python3"
  },
  "language_info": {
   "codemirror_mode": {
    "name": "ipython",
    "version": 2
   },
   "file_extension": ".py",
   "mimetype": "text/x-python",
   "name": "python",
   "nbconvert_exporter": "python",
   "pygments_lexer": "ipython2",
   "version": "2.7.6"
  }
 },
 "nbformat": 4,
 "nbformat_minor": 0
}
