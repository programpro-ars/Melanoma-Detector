{
 "cells": [
  {
   "cell_type": "markdown",
   "source": [
    "# Melanoma Classification Model With Feature Coefficients\n",
    "### by Arseniy Arsentyev (programpro.ars@gmail.com)"
   ],
   "metadata": {
    "collapsed": false
   }
  },
  {
   "cell_type": "code",
   "execution_count": null,
   "metadata": {
    "collapsed": true
   },
   "outputs": [],
   "source": [
    "import numpy as np\n",
    "from keras.models import Sequential\n",
    "from keras.layers import Dense\n",
    "from keras.callbacks import ModelCheckpoint\n",
    "import matplotlib.pyplot as plt\n",
    "import pandas as pd"
   ]
  },
  {
   "cell_type": "code",
   "execution_count": null,
   "outputs": [],
   "source": [
    "path_to_coefs = 'path to the csv file which stores preprocessing coefficients, image_name, and CNN prediction'"
   ],
   "metadata": {
    "collapsed": false
   }
  },
  {
   "cell_type": "code",
   "execution_count": null,
   "outputs": [],
   "source": [
    "data = pd.read_csv(path_to_coefs)\n",
    "training_data = []\n",
    "training_labels = []\n",
    "for index, i in data.iterrows():\n",
    "    training_data.append([i['c1'], i['c2'], i['c3'], i['prediction']])\n",
    "    if i['target'] == 1:\n",
    "        training_labels.append([0, 1])\n",
    "    else:\n",
    "        training_labels.append([1, 0])\n",
    "training_data = np.array(training_data)\n",
    "training_labels = np.array(training_labels)\n",
    "print(training_data.shape)\n",
    "print(training_labels.shape)"
   ],
   "metadata": {
    "collapsed": false
   }
  },
  {
   "cell_type": "code",
   "execution_count": null,
   "outputs": [],
   "source": [
    "model = Sequential()\n",
    "model.add(Dense(4, activation='relu', input_shape=(4, )))\n",
    "model.add(Dense(2, activation='softmax'))\n",
    "model.compile(optimizer='adam', loss='categorical_crossentropy', metrics=['accuracy'])"
   ],
   "metadata": {
    "collapsed": false
   }
  },
  {
   "cell_type": "code",
   "execution_count": null,
   "outputs": [],
   "source": [
    "checkpoint = ModelCheckpoint('coefs-model.hdf5', monitor='val_loss', save_best_only=True)\n",
    "callbacks_list = [checkpoint]\n",
    "\n",
    "training_history = model.fit(training_data, training_labels, validation_split=0.3, epochs=20, callbacks=callbacks_list)"
   ],
   "metadata": {
    "collapsed": false
   }
  },
  {
   "cell_type": "code",
   "execution_count": null,
   "outputs": [],
   "source": [
    "plt.plot(training_history.history['loss'][3:])\n",
    "plt.plot(training_history.history['val_loss'][3:])\n",
    "plt.show()"
   ],
   "metadata": {
    "collapsed": false
   }
  }
 ],
 "metadata": {
  "kernelspec": {
   "display_name": "Python 3",
   "language": "python",
   "name": "python3"
  },
  "language_info": {
   "codemirror_mode": {
    "name": "ipython",
    "version": 2
   },
   "file_extension": ".py",
   "mimetype": "text/x-python",
   "name": "python",
   "nbconvert_exporter": "python",
   "pygments_lexer": "ipython2",
   "version": "2.7.6"
  }
 },
 "nbformat": 4,
 "nbformat_minor": 0
}
